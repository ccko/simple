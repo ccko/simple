{
 "cells": [
  {
   "cell_type": "code",
   "execution_count": 10,
   "metadata": {
    "collapsed": false
   },
   "outputs": [],
   "source": [
    "import os, time\n",
    "import sys\n",
    "\n",
    "from PyQt4 import QtCore, QtGui, uic\n",
    "from PyQt4.QtGui import QStandardItemModel\n",
    "from PyQt4.QtGui import QStandardItem\n",
    "import package.book_ui\n",
    "from package.book_ui import Ui_MainWindow\n",
    "#from firebase import firebase\n",
    "\n",
    "class MyApp(QtGui.QMainWindow, Ui_MainWindow):\n",
    "    def __init__(self):\n",
    "        QtGui.QMainWindow.__init__(self)\n",
    "        Ui_MainWindow.__init__(self)\n",
    "        self.setupUi(self)\n",
    "     \n",
    "    def closeEvent(self, event):\n",
    "        # do stuff\n",
    "        reply = QtGui.QMessageBox.question(self, 'Message',\n",
    "            \"Are you sure to quit?\", QtGui.QMessageBox.Yes, QtGui.QMessageBox.No)\n",
    "\n",
    "        if reply == QtGui.QMessageBox.Yes:\n",
    "            event.accept()\n",
    "        else:\n",
    "            event.ignore()\n",
    "\n",
    "\n",
    "if __name__ == \"__main__\":\n",
    "    app = QtGui.QApplication(sys.argv)\n",
    "    window = MyApp()\n",
    "    size = window.maximumSize()\n",
    "    window.show()\n",
    "    window.setFixedSize(880, 620)\n",
    "    app.exec_()\n"
   ]
  }
 ],
 "metadata": {
  "kernelspec": {
   "display_name": "Python 3",
   "language": "python",
   "name": "python3"
  },
  "language_info": {
   "codemirror_mode": {
    "name": "ipython",
    "version": 3
   },
   "file_extension": ".py",
   "mimetype": "text/x-python",
   "name": "python",
   "nbconvert_exporter": "python",
   "pygments_lexer": "ipython3",
   "version": "3.5.1"
  }
 },
 "nbformat": 4,
 "nbformat_minor": 0
}
